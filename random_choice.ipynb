{
 "cells": [
  {
   "cell_type": "code",
   "execution_count": 1,
   "id": "74077f1c-a08e-4edc-a61b-0fcdaf8a2b01",
   "metadata": {
    "scrolled": true
   },
   "outputs": [
    {
     "name": "stdout",
     "output_type": "stream",
     "text": [
      "['赖文成', '钱豪', '梁健', '吴启迪', '宋原池', '白英奎', '王丹', '卓恩德', '马雅瑄', '李文浩', '张磊', '么甲熙', '马国强', '虎文杰', '尉博文', '刘家诚', '王晓博', '秦永彬', '杨旻睿', '李佳玭', '黄国庆', '王锐晰', '周东良', '曹鑫泽', '梁梦珂', '王文超', '杨佳浩', '赵润林', '陈妍', '沈韬', '贾鸿梦', '郭力像', '付俊翔']\n",
      "王锐晰\n",
      "最终的幸运儿是：马国强\n"
     ]
    }
   ],
   "source": [
    "import pandas as pd\n",
    "import random\n",
    "import time\n",
    "import sys\n",
    "\n",
    "\n",
    "def load_student_names(filename):\n",
    "    # 使用pandas读取Excel文件\n",
    "    df = pd.read_excel(filename, engine=\"openpyxl\")\n",
    "    # 确保姓名列存在\n",
    "    if \"姓名\" in df.columns:\n",
    "        return df[\"姓名\"].tolist()\n",
    "    else:\n",
    "        print(\"Excel文件中没有找到'姓名'列。\")\n",
    "        return []\n",
    "\n",
    "\n",
    "def random_student(names):\n",
    "    # 从列表中随机选择一个姓名\n",
    "    if names:\n",
    "        return random.choice(names)\n",
    "    else:\n",
    "        return \"名单为空，无法选择。\"\n",
    "\n",
    "\n",
    "if __name__ == \"__main__\":\n",
    "    filename = \"24工业.xlsx\"\n",
    "    student_names = load_student_names(filename)\n",
    "    print(student_names)\n",
    "\n",
    "    start_time = time.time()\n",
    "    while time.time() - start_time < 6:  # 6秒内不断随机打印学生姓名\n",
    "        selected_student = random_student(student_names)\n",
    "        print(f\"\\r{selected_student}\", end=\"\")\n",
    "        time.sleep(0.2)  # 每0.2秒打印一次，可以根据需要调整\n",
    "    print()  # 输出一个换行，以便最终选定的姓名在新的一行显示\n",
    "    # 最终随机选定并打印一名学生的姓名\n",
    "    final_selected_student = random_student(student_names)\n",
    "    print(f\"最终的幸运儿是：{final_selected_student}\")\n"
   ]
  },
  {
   "cell_type": "code",
   "execution_count": 1,
   "id": "46784ed4-0095-494a-80b2-45ce875bfcb5",
   "metadata": {},
   "outputs": [
    {
     "data": {
      "text/plain": [
       "8"
      ]
     },
     "execution_count": 1,
     "metadata": {},
     "output_type": "execute_result"
    }
   ],
   "source": [
    "3 + 5"
   ]
  },
  {
   "cell_type": "code",
   "execution_count": 2,
   "id": "97083713-efbd-46be-9909-68b77113f51b",
   "metadata": {},
   "outputs": [
    {
     "data": {
      "text/plain": [
       "10"
      ]
     },
     "execution_count": 2,
     "metadata": {},
     "output_type": "execute_result"
    }
   ],
   "source": [
    "4 +6"
   ]
  },
  {
   "cell_type": "code",
   "execution_count": null,
   "id": "758547cb-6375-49a3-8b78-9f225c77d32c",
   "metadata": {},
   "outputs": [],
   "source": []
  }
 ],
 "metadata": {
  "kernelspec": {
   "display_name": "mojo",
   "language": "python",
   "name": "python3"
  },
  "language_info": {
   "codemirror_mode": {
    "name": "ipython",
    "version": 3
   },
   "file_extension": ".py",
   "mimetype": "text/x-python",
   "name": "python",
   "nbconvert_exporter": "python",
   "pygments_lexer": "ipython3",
   "version": "3.11.0"
  }
 },
 "nbformat": 4,
 "nbformat_minor": 5
}
