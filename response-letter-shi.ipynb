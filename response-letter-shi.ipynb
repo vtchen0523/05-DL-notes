{
 "cells": [
  {
   "cell_type": "markdown",
   "metadata": {},
   "source": [
    "Reviewer #1: My comments on ACTA Mechanica paper_D-23-00852\n",
    "\n",
    "The paper titled \"Vibration stability and bifurcation analysis of two-stage spur gear systems supported by squeeze film dampers\" is an elaborate work. However, I have some comments and some questions.\n",
    "\n",
    "I request the authors for major revisions."
   ]
  },
  {
   "cell_type": "markdown",
   "metadata": {},
   "source": [
    "1. The authors presented the figure-1 to present the construction of the support system, that is how the shaft is put in the rolling element bearing, which is put on the squeeze film damper to connect with the bearing housing. I agree that this is an introductory figure to explain the support system. However, I expect a better diagram to understand the system better. "
   ]
  },
  {
   "cell_type": "markdown",
   "metadata": {},
   "source": [
    "2. The diagram should contain a front view of all the stages of the representative gears as well as the support system. The question is that is whether the shaft system is supported on one end or on both ends? The diagram should depict the coordinate system with respect to which the equations of motion will be written. The authors have shown the velocity components U1 and V1, of the journal surface but have not shown U2 and V2, of the bearing housing on figure 1(b). These should be shown. "
   ]
  },
  {
   "cell_type": "markdown",
   "metadata": {},
   "source": [
    "3. The housing has been shown in figure 1(a) by using a hatch mark. More technically speaking, hatch marks are generally used to depict a fixed surface in general. I shall request the authors to draw the diagram more meticulously with all the details as explained."
   ]
  },
  {
   "cell_type": "markdown",
   "metadata": {},
   "source": [
    "4. I have a question about showing the velocity components U1 and V1, at an angle θ. How is this angle defined? Is it not possible to define the velocities along the coordinate system x,y,z?"
   ]
  },
  {
   "cell_type": "markdown",
   "metadata": {},
   "source": [
    "5. Next, there is a question about figure 2. Normally gear pairs are represented by their pitch circles, as these are the two hypothetical circles which are thought to roll over each other to provide the gearing action. The authors have shown the base circles instead. I think that this is a mistake."
   ]
  },
  {
   "cell_type": "markdown",
   "metadata": {},
   "source": [
    "6. For a better understanding, I shall request the authors to draw the free body diagrams of the gears and then apply the Newton's laws to write the equations of motion.\n"
   ]
  },
  {
   "cell_type": "markdown",
   "metadata": {},
   "source": [
    "7. I have a question on equation (12), where the authors have not defined the term bs. Again, the conditions (13) should be written clearly."
   ]
  },
  {
   "cell_type": "markdown",
   "metadata": {},
   "source": [
    "\n",
    "8. I could not understand the Static Transmission Error (STE) physically, and the reason behind modelling the same using the gear meshing frequency as written in equation (15). This should be explained. The authors have used the phases to explain in equations (14) and (15). Phases are relative, therefore should be specified with respect to some basis.\n"
   ]
  },
  {
   "cell_type": "markdown",
   "metadata": {},
   "source": [
    "9. The authors write that combining equations (5), (8), and (16) they get equation (18) and by combining equations (8), (11), and (17) they get equation (19). However, I could not understand how these happen, as the equations (18) and (19) and for translatory coordinates, however the equations (5) and (8) and for angular coordinates θ1 and θ2 respectively. The deductions are not understandable and should be written in detail.\n"
   ]
  },
  {
   "cell_type": "markdown",
   "metadata": {},
   "source": [
    "10. The authors have listed the dimensionless equations of motion in equation number (21), however, there are no equations corresponding to the angular coordinates $\\theta1 , \\theta2$ and $\\theta4$, which the authors have defined as generalized coordinates in equation (2)? The equations of motion are derived in terms of generalized coordinates. So, the process of deriving the equations of motion is unclear.\n"
   ]
  },
  {
   "cell_type": "markdown",
   "metadata": {},
   "source": [
    "11. There is a problem in deducing the equation (29). Please see this."
   ]
  },
  {
   "cell_type": "markdown",
   "metadata": {},
   "source": [
    "12. Therefore, many problems in the deductions are written. These should be corrected first to get into the solutions.\n"
   ]
  },
  {
   "cell_type": "markdown",
   "metadata": {},
   "source": [
    "13. The paper has reported numerical solutions of a simplified system. It is well known that bifurcations and chaos, which are the effects of nonlinearities and of time variation on the dynamic behaviour of a system get effectively smoothened by applying stationary dissipation effects. Therefore, the question is about the novelty of the work. The work is not novel.\n"
   ]
  },
  {
   "cell_type": "markdown",
   "metadata": {},
   "source": [
    "14. Again, the question arises about the applicability of the work in practice. No experimental validation has been provided."
   ]
  },
  {
   "cell_type": "markdown",
   "metadata": {},
   "source": [
    "15. Therefore, the authors are requested to address all the comments and revise the paper."
   ]
  },
  {
   "cell_type": "markdown",
   "metadata": {},
   "source": [
    "Reviewer #2: \n",
    "\n",
    "1. The contact information (including email address) of the corresponding author needs to be clearly indicated in the first page of the main body of the manuscript. This is a mandatory requirement by most journals."
   ]
  },
  {
   "cell_type": "markdown",
   "metadata": {},
   "source": [
    "2. The authors need to polish the English writing thorough out the manuscript. Right now there are many grammar errors or ill-structured words in the texts. For example, On pages 2-3: \"According to the reference [31-33], assuming that the fluid is continuous, Newtonian fluid and laminar flow, the inertia force of the oil-film is ignored, the thickness of the oil-film is much smaller than its length and width, there is no relative sliding between the fluid and the wall, and the influence of the oil-film temperature change is ignored.\" \n",
    "The authors need to thoroughly check their writings."
   ]
  },
  {
   "cell_type": "markdown",
   "metadata": {},
   "source": [
    "3. How were the design parameters in Table 2 determined. Where did the authors obtained these parameters? It needs to be clearly explained in the texts."
   ]
  },
  {
   "cell_type": "markdown",
   "metadata": {},
   "source": [
    "4. There is a problem with the order of the figures. The authors introduced the results from Fig. 5 first in the text, and then Fig. 4. They need to correct the order.   "
   ]
  },
  {
   "cell_type": "markdown",
   "metadata": {},
   "source": [
    "5. The authors only mentioned that they used finite element method to numerically solve the problem. But they never provided any information regarding the implementation of their proposed approach in FEM. The authors asked the reader to read the details in Ref. [5]. However, what's the novel contribution of this study? The authors need to explain. Are they studying the problem on exactly the same subject? If so, the novelty and originality of this study are in doubt.\n",
    "\n",
    "In addition, the novelty needs to be clearly stated in the manuscript in comparison with Refs [5], [17] and [28]."
   ]
  },
  {
   "cell_type": "markdown",
   "metadata": {},
   "source": [
    "6. There is no validation for any of the results. Validation is mandatory for a theoretical work."
   ]
  },
  {
   "cell_type": "markdown",
   "metadata": {},
   "source": [
    "7. The authors did a poor literature review regarding this topic. It made me feel that this study may not fall in the scope of this journal as they did not cite a single paper from it. So far, I've noticed a number of related works, e.g., Khatri CB, Yadav SK, Thakre GD, Rajput AK. Design optimization of vein-bionic textured hydrodynamic journal bearing using genetic algorithm. Acta Mechanica. 2024 235(1):167-90; Liu R, Yue Y. Composite Poincaré mapping of double grazing in non-smooth dynamical systems: bifurcations and insights. Acta Mechanica. 2023 234(10):4573-87; Zheng, J., Qin, D. and Liu, C., 2023. A novel dynamic modeling method with slice coupling for thin-rimmed gear transmission. Acta Mechanica, 234(12), .6097-6121."
   ]
  }
 ],
 "metadata": {
  "language_info": {
   "name": "python"
  }
 },
 "nbformat": 4,
 "nbformat_minor": 2
}
