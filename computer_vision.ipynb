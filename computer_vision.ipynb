{
 "cells": [
  {
   "cell_type": "markdown",
   "metadata": {},
   "source": [
    "# 计算机视觉"
   ]
  },
  {
   "cell_type": "markdown",
   "metadata": {},
   "source": [
    "## 目标检测"
   ]
  },
  {
   "cell_type": "markdown",
   "metadata": {},
   "source": [
    "### FCOS (Fully Convolutional One-Stage Object Detection)\n",
    "\n",
    "<style>\n",
    "img{\n",
    "    width: 80%;\n",
    "    padding-left: 10%;\n",
    "}\n",
    "</style>\n",
    "\n",
    "![test image](AI-For-Beginners-main/lessons/4-ComputerVision/12-Segmentation/images/instance_vs_semantic.jpeg)\n",
    "\n",
    "\n",
    "<!-- <img src=\"AI-For-Beginners-main/lessons/4-ComputerVision/12-Segmentation/images/instance_vs_semantic.jpeg\" > -->\n",
    "\n"
   ]
  },
  {
   "cell_type": "markdown",
   "metadata": {},
   "source": [
    "### YOLOv8\n",
    "![alt text](YOLO模型.jpg)"
   ]
  },
  {
   "cell_type": "markdown",
   "metadata": {},
   "source": [
    "\n",
    "\n",
    "$$\n",
    "\\begin{align}\n",
    "x = \\frac{-b \\pm \\sqrt{b^2 - 4ac}}{2a}\n",
    "\\end{align}\n",
    "\\tag{1}\n",
    "$$\n",
    "\n",
    "$$\n",
    "\\begin{align}\n",
    "x = & \\frac{-b \\pm \\sqrt{b^2 - 4ac}}{2a} \\\\\n",
    "y = & \\frac{-c \\pm \\sqrt{c^2 - 4bc}}{2b} \\\\\n",
    "\\end{align}\n",
    "\\tag{2}\n",
    "$$\n",
    "\n",
    "$$\n",
    "\\mathcal L U = F \n",
    "\\tag{3}\n",
    "$$\n"
   ]
  },
  {
   "cell_type": "markdown",
   "metadata": {},
   "source": [
    "购物清单列表1:\n",
    "- [ ] 水杯\n",
    "- [x] 牙刷\n",
    "- [x] 牙膏\n",
    "\n"
   ]
  }
 ],
 "metadata": {
  "kernelspec": {
   "display_name": "Python 3",
   "language": "python",
   "name": "python3"
  },
  "language_info": {
   "codemirror_mode": {
    "name": "ipython",
    "version": 3
   },
   "file_extension": ".py",
   "mimetype": "text/x-python",
   "name": "python",
   "nbconvert_exporter": "python",
   "pygments_lexer": "ipython3",
   "version": "3.11.9"
  }
 },
 "nbformat": 4,
 "nbformat_minor": 2
}
