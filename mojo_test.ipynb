{
 "cells": [
  {
   "cell_type": "code",
   "execution_count": 1,
   "metadata": {},
   "outputs": [
    {
     "name": "stdout",
     "output_type": "stream",
     "text": [
      "[16700:16701:20241002,114117.350734:ERROR file_io_posix.cc:152] open /home/vtchen/.modular/crashdb/pending/e10aaf4a-c8bc-4bd4-8829-de968a3d252d.lock: File exists (17)\n",
      "Hello, world!\n"
     ]
    }
   ],
   "source": [
    "fn helloword():    \n",
    "    print(\"Hello, world!\")\n",
    "\n",
    "\n",
    "helloword()"
   ]
  },
  {
   "cell_type": "code",
   "execution_count": 2,
   "metadata": {},
   "outputs": [
    {
     "name": "stdout",
     "output_type": "stream",
     "text": [
      "2.0\n"
     ]
    }
   ],
   "source": [
    "fn add_one(x: Float16) -> Float16:\n",
    "    var y = 1\n",
    "    return x + y\n",
    "\n",
    "z = add_one(1.0)\n",
    "print(z)"
   ]
  },
  {
   "cell_type": "code",
   "execution_count": 1,
   "metadata": {},
   "outputs": [],
   "source": [
    "fn add_one(y: Int):\n",
    "    var z = y\n",
    "    z += 1\n",
    "    print(z)"
   ]
  },
  {
   "cell_type": "code",
   "execution_count": 1,
   "metadata": {},
   "outputs": [
    {
     "name": "stdout",
     "output_type": "stream",
     "text": [
      "Required method implementation\n"
     ]
    }
   ],
   "source": [
    "struct MyStruct:\n",
    "    fn __init__(inout self):\n",
    "        pass\n",
    "\n",
    "    fn required_method(self, x: Int):\n",
    "        print(\"Required method implementation\")\n",
    "\n",
    "\n",
    "fn use_trait():\n",
    "    var my_struct = MyStruct()\n",
    "    my_struct.required_method(10)\n",
    "\n",
    "\n",
    "use_trait()\n"
   ]
  },
  {
   "cell_type": "code",
   "execution_count": 1,
   "metadata": {},
   "outputs": [
    {
     "name": "stdout",
     "output_type": "stream",
     "text": [
      "5\n",
      "this uses the python print keyword\n"
     ]
    }
   ],
   "source": [
    "from python import Python\n",
    "\n",
    "x = Python.evaluate(\"2+3\")\n",
    "print(x)\n",
    "\n",
    "py = Python.import_module(\"builtins\")\n",
    "\n",
    "py.print(\"this uses the python print keyword\")\n"
   ]
  },
  {
   "cell_type": "code",
   "execution_count": 58,
   "metadata": {},
   "outputs": [
    {
     "name": "stdout",
     "output_type": "stream",
     "text": [
      "[1, 1, 1, 1, 1, 1, 1, 1, 1, 1, 1, 1, 1, 1, 1, 1]\n"
     ]
    }
   ],
   "source": [
    "\n",
    "# xx = SIMD[DType.uint8, 16](1)\n",
    "# print(xx)\n",
    "\n"
   ]
  },
  {
   "cell_type": "code",
   "execution_count": 1,
   "metadata": {},
   "outputs": [
    {
     "name": "stdout",
     "output_type": "stream",
     "text": [
      "1\n"
     ]
    }
   ],
   "source": [
    "var x = 1\n",
    "# x = \"will cause an error\"\n",
    "print(x)"
   ]
  },
  {
   "cell_type": "code",
   "execution_count": 15,
   "metadata": {},
   "outputs": [
    {
     "name": "stdout",
     "output_type": "stream",
     "text": [
      "Mojo🔥\n",
      "M\n"
     ]
    }
   ],
   "source": [
    "s = String(\"Mojo🔥\")\n",
    "print(s)\n",
    "\n",
    "print(s[0])"
   ]
  },
  {
   "cell_type": "code",
   "execution_count": 17,
   "metadata": {},
   "outputs": [
    {
     "name": "stdout",
     "output_type": "stream",
     "text": [
      "77\n"
     ]
    }
   ],
   "source": [
    "from builtin.string import ord\n",
    "\n",
    "decimal = ord(s[0])\n",
    "print(decimal)"
   ]
  },
  {
   "cell_type": "code",
   "execution_count": 23,
   "metadata": {},
   "outputs": [
    {
     "name": "stdout",
     "output_type": "stream",
     "text": [
      "10\n",
      "hello\n"
     ]
    }
   ],
   "source": [
    "var x = String()\n",
    "x = 10\n",
    "print(x)\n",
    "# x\n",
    "\n",
    "var y:StringLiteral = \"hello\"\n",
    "print(y)\n"
   ]
  },
  {
   "cell_type": "code",
   "execution_count": 29,
   "metadata": {},
   "outputs": [
    {
     "name": "stdout",
     "output_type": "stream",
     "text": [
      "Unhandled exception caught during execution"
     ]
    },
    {
     "name": "stdout",
     "output_type": "stream",
     "text": [
      "Error: This is an error\n"
     ]
    }
   ],
   "source": [
    "def return_error():\n",
    "    raise Error(\"This is an error\")\n",
    "\n",
    "return_error()\n",
    "\n",
    "fn raise_error() raises:\n",
    "    raise Error(\"This is an error\")\n",
    "\n",
    "raise_error()"
   ]
  },
  {
   "cell_type": "code",
   "execution_count": 31,
   "metadata": {},
   "outputs": [
    {
     "name": "stdout",
     "output_type": "stream",
     "text": [
      "Error raised: Error occurred!\n",
      "Always executed\n"
     ]
    }
   ],
   "source": [
    "fn raise_error(con:Bool) raises:\n",
    "    if con:\n",
    "        raise Error(\"Error occurred!\")\n",
    "\n",
    "    else:\n",
    "        print(\"No error occurred.\")\n",
    "\n",
    "try:\n",
    "    raise_error(True)\n",
    "except e:\n",
    "    print(\"Error raised:\", e)\n",
    "finally:\n",
    "    print(\"Always executed\")"
   ]
  },
  {
   "cell_type": "code",
   "execution_count": 28,
   "metadata": {},
   "outputs": [
    {
     "name": "stdout",
     "output_type": "stream",
     "text": [
      "4\n"
     ]
    }
   ],
   "source": [
    "fn add(inout a: Int, b: Int) -> Int:\n",
    "    a = a + 1\n",
    "    return a + b\n",
    "\n",
    "var x = 1\n",
    "print(add(x, 2))"
   ]
  }
 ],
 "metadata": {
  "kernelspec": {
   "display_name": "Mojo (max)",
   "language": "mojo",
   "name": "mojo-max-jupyter-kernel"
  },
  "language_info": {
   "codemirror_mode": {
    "name": "mojo"
   },
   "file_extension": ".mojo",
   "mimetype": "text/x-mojo",
   "name": "mojo"
  }
 },
 "nbformat": 4,
 "nbformat_minor": 2
}
